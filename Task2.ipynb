{
 "cells": [
  {
   "cell_type": "code",
   "execution_count": 4,
   "id": "71795735-412d-4524-bcde-36be6a7f7098",
   "metadata": {},
   "outputs": [
    {
     "name": "stdout",
     "output_type": "stream",
     "text": [
      "Requirement already satisfied: scipy in c:\\users\\noufiya\\appdata\\local\\programs\\python\\python310\\lib\\site-packages (1.13.0)\n",
      "Requirement already satisfied: numpy<2.3,>=1.22.4 in c:\\users\\noufiya\\appdata\\local\\programs\\python\\python310\\lib\\site-packages (from scipy) (1.26.2)\n",
      "Note: you may need to restart the kernel to use updated packages.\n"
     ]
    },
    {
     "name": "stderr",
     "output_type": "stream",
     "text": [
      "\n",
      "[notice] A new release of pip available: 22.2.2 -> 24.0\n",
      "[notice] To update, run: python.exe -m pip install --upgrade pip\n"
     ]
    }
   ],
   "source": [
    "pip install scipy"
   ]
  },
  {
   "cell_type": "markdown",
   "id": "f2406213-a772-4462-801b-51b9336554a6",
   "metadata": {},
   "source": [
    "Q1.Suppose a child psychologist claims that the average time working mothers spend talking to their children is at least 11 minutes per day.\n",
    "You conduct a random sample of 1000 working mothers and find they spend an average of 11.5 minutes per day talking with their children. \n",
    "Assume prior research suggests the population standard deviation is 2.3 minutes.Conduct a test with a level of significance of alpha = 0.05."
   ]
  },
  {
   "cell_type": "code",
   "execution_count": 5,
   "id": "81307629-078e-4465-8087-5ea4a20aebcd",
   "metadata": {},
   "outputs": [],
   "source": [
    "import numpy as np\n",
    "from scipy.stats import norm"
   ]
  },
  {
   "cell_type": "code",
   "execution_count": 6,
   "id": "478a818a-ecac-4bdb-8644-e5e5ff2a9d79",
   "metadata": {},
   "outputs": [],
   "source": [
    "sample_mean = 11.5  # Sample mean\n",
    "pop_std_dev = 2.3  # Population standard deviation\n",
    "n = 1000  # Sample size\n",
    "alpha = 0.05  # Level of significance\n",
    "\n",
    "# Null hypothesis\n",
    "mu = 11"
   ]
  },
  {
   "cell_type": "code",
   "execution_count": 10,
   "id": "5bdfd66b-7ffc-4b26-a7f1-4a6dbad856fd",
   "metadata": {},
   "outputs": [
    {
     "data": {
      "text/plain": [
       "6.874516652539955"
      ]
     },
     "execution_count": 10,
     "metadata": {},
     "output_type": "execute_result"
    }
   ],
   "source": [
    "#calculate z_score\n",
    "z_score = (sample_mean - mu) / (pop_std_dev / np.sqrt(n))\n",
    "z_score"
   ]
  },
  {
   "cell_type": "code",
   "execution_count": 11,
   "id": "cfb8b3d0-04a9-4102-a6ea-e358957ef687",
   "metadata": {},
   "outputs": [
    {
     "data": {
      "text/plain": [
       "0.9999999999968899"
      ]
     },
     "execution_count": 11,
     "metadata": {},
     "output_type": "execute_result"
    }
   ],
   "source": [
    "# Calculate p-value\n",
    "p_value = norm.cdf(z_score)\n",
    "p_value"
   ]
  },
  {
   "cell_type": "code",
   "execution_count": 12,
   "id": "35d484d2-cc09-42d5-9f94-70735ab814f3",
   "metadata": {},
   "outputs": [
    {
     "name": "stdout",
     "output_type": "stream",
     "text": [
      "Fail to reject the null hypothesis. There is not enough evidence to support the claim.\n"
     ]
    }
   ],
   "source": [
    "if p_value < alpha:\n",
    "    print(\"Reject the null hypothesis. There is enough evidence to support the claim.\")\n",
    "else:\n",
    "    print(\"Fail to reject the null hypothesis. There is not enough evidence to support the claim.\")"
   ]
  },
  {
   "cell_type": "markdown",
   "id": "93ccd75c-be8c-4ce0-ac15-15a13aaad0cf",
   "metadata": {},
   "source": [
    "Q2. A coffee shop claims that their average wait time for customers is less than 5 minutes. To test this claim, a sample of 40 customers is taken, and their wait times are recorded. The sample mean wait time is found to be 4.6 minutes with a standard deviation of 0.8 minutes. Perform a hypothesis test at a significance level of 0.05 and determine whether there is enough evidence to support the coffee shop's claim."
   ]
  },
  {
   "cell_type": "code",
   "execution_count": 13,
   "id": "93640ed8-1269-4c78-9204-1b897f3b37f8",
   "metadata": {},
   "outputs": [],
   "source": [
    "sample_mean = 4.6  # Sample mean\n",
    "sample_std_dev = 0.8  # Sample standard deviation\n",
    "n = 40  # Sample size\n",
    "alpha = 0.05  # Level of significance\n"
   ]
  },
  {
   "cell_type": "code",
   "execution_count": 14,
   "id": "fc4f944b-4cc9-4b1d-b011-23282a36abb4",
   "metadata": {},
   "outputs": [],
   "source": [
    "# Null hypothesis\n",
    "mu = 5"
   ]
  },
  {
   "cell_type": "code",
   "execution_count": 16,
   "id": "57807e2b-2523-487c-9e6a-6eb7c6d1d036",
   "metadata": {},
   "outputs": [
    {
     "data": {
      "text/plain": [
       "-3.162277660168382"
      ]
     },
     "execution_count": 16,
     "metadata": {},
     "output_type": "execute_result"
    }
   ],
   "source": [
    "# Calculate z-score\n",
    "z_score = (sample_mean - mu) / (sample_std_dev / np.sqrt(n))\n",
    "z_score"
   ]
  },
  {
   "cell_type": "code",
   "execution_count": 17,
   "id": "e4608b1f-fa66-4e11-bd81-6a1aeaa10662",
   "metadata": {},
   "outputs": [
    {
     "data": {
      "text/plain": [
       "0.0007827011290012658"
      ]
     },
     "execution_count": 17,
     "metadata": {},
     "output_type": "execute_result"
    }
   ],
   "source": [
    "# Calculate p-value\n",
    "p_value = norm.cdf(z_score)\n",
    "p_value\n"
   ]
  },
  {
   "cell_type": "code",
   "execution_count": 18,
   "id": "06f06912-426d-42f8-9537-6cc917006a01",
   "metadata": {},
   "outputs": [
    {
     "name": "stdout",
     "output_type": "stream",
     "text": [
      "Reject the null hypothesis. There is enough evidence to support the claim.\n"
     ]
    }
   ],
   "source": [
    "if p_value < alpha:\n",
    "    print(\"Reject the null hypothesis. There is enough evidence to support the claim.\")\n",
    "else:\n",
    "    print(\"Fail to reject the null hypothesis. There is not enough evidence to support the claim.\")"
   ]
  },
  {
   "cell_type": "code",
   "execution_count": null,
   "id": "9e323be8-c1a8-4415-a5ab-06a22529747a",
   "metadata": {},
   "outputs": [],
   "source": []
  }
 ],
 "metadata": {
  "kernelspec": {
   "display_name": "Python 3 (ipykernel)",
   "language": "python",
   "name": "python3"
  },
  "language_info": {
   "codemirror_mode": {
    "name": "ipython",
    "version": 3
   },
   "file_extension": ".py",
   "mimetype": "text/x-python",
   "name": "python",
   "nbconvert_exporter": "python",
   "pygments_lexer": "ipython3",
   "version": "3.10.5"
  }
 },
 "nbformat": 4,
 "nbformat_minor": 5
}
